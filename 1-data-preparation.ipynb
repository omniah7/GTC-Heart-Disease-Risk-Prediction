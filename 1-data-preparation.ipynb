{
 "cells": [
  {
   "cell_type": "markdown",
   "metadata": {
    "id": "otOz8xXEjjkw"
   },
   "source": [
    "---\n",
    "# ***🫀 Heart Disease Risk Prediction***\n",
    "\n",
    "<img src=\"https://hinduja-prod-assets.s3.ap-south-1.amazonaws.com/s3fs-public/2024-03/Heart%20Failure%20and%20Symptoms.jpg\" alt=\"Heart Disease\" width=\"100%\" style=\"border-radius:12px; margin-bottom:10px;\">\n",
    "\n",
    "-----\n"
   ]
  },
  {
   "cell_type": "markdown",
   "metadata": {
    "id": "MQbp3ByphMOW"
   },
   "source": [
    "---\n",
    "\n",
    "# 📌**Introduction**\n",
    "Heart disease is one of the **leading causes of death worldwide**.  \n",
    "Early detection and risk prediction can help doctors take **preventive actions** and save lives.  \n",
    "Using the **Cleveland Heart Disease dataset**, we aim to apply **machine learning** to identify patients at **high risk**.  \n",
    "\n",
    "---\n",
    "\n",
    "## ⚠️ **Problem Statement**  \n",
    "Our healthcare team wants to shift toward **preventive care**.  \n",
    "The challenge is to build an **ML-based tool** that classifies individuals as **high risk** or **low risk**,  \n",
    "so clinicians can prioritize **early intervention and monitoring**.  \n",
    "\n",
    "---\n",
    "\n",
    "## 🎯 **Goal**  \n",
    "The goal of this project is to:  \n",
    "✅ Clean and prepare the dataset.  \n",
    "✅ Perform **EDA** to discover key risk factors.  \n",
    "✅ Train and evaluate classification models.  \n",
    "✅ Deploy a simple **web app** where users can input patient details and receive a real-time risk prediction.  \n",
    "\n",
    "---\n"
   ]
  },
  {
   "cell_type": "markdown",
   "metadata": {
    "id": "0xCq_h4VicTj"
   },
   "source": [
    "----\n",
    "# ***Let's Start***\n",
    "-----"
   ]
  },
  {
   "cell_type": "code",
   "execution_count": null,
   "metadata": {
    "executionInfo": {
     "elapsed": 20,
     "status": "ok",
     "timestamp": 1758147862320,
     "user": {
      "displayName": "Sandyy Ashraff",
      "userId": "15332849214819808934"
     },
     "user_tz": -180
    },
    "id": "nuTZpqmFfUbI"
   },
   "outputs": [],
   "source": [
    "#Import libraries\n",
    "import pandas as pd\n",
    "import numpy as np\n",
    "import matplotlib.pyplot as plt\n",
    "import seaborn as sns\n",
    "import sklearn\n",
    "from sklearn.linear_model import LogisticRegression\n",
    "from sklearn.neighbors import KNeighborsClassifier\n",
    "from sklearn.ensemble import RandomForestClassifier\n",
    "from sklearn.model_selection import train_test_split, cross_val_score\n",
    "from sklearn.model_selection import RandomizedSearchCV, GridSearchCV\n",
    "from sklearn.metrics import confusion_matrix, classification_report\n",
    "from sklearn.metrics import precision_score, recall_score, f1_score\n",
    "from sklearn.metrics import RocCurveDisplay\n"
   ]
  },
  {
   "cell_type": "code",
   "execution_count": null,
   "metadata": {
    "executionInfo": {
     "elapsed": 4,
     "status": "ok",
     "timestamp": 1758147862322,
     "user": {
      "displayName": "Sandyy Ashraff",
      "userId": "15332849214819808934"
     },
     "user_tz": -180
    },
    "id": "7GC--wJuhaQb"
   },
   "outputs": [],
   "source": [
    "#Loading the data\n",
    "df = pd.read_csv('./data/Heart_disease_cleveland_new.csv')"
   ]
  },
  {
   "cell_type": "code",
   "execution_count": null,
   "metadata": {
    "colab": {
     "base_uri": "https://localhost:8080/",
     "height": 206
    },
    "executionInfo": {
     "elapsed": 96,
     "status": "ok",
     "timestamp": 1758147862422,
     "user": {
      "displayName": "Sandyy Ashraff",
      "userId": "15332849214819808934"
     },
     "user_tz": -180
    },
    "id": "gKWqRro_h8ML",
    "outputId": "3d6ee9a9-f019-4dee-d88c-6565069c88bb"
   },
   "outputs": [],
   "source": [
    "df.head()"
   ]
  },
  {
   "cell_type": "code",
   "execution_count": null,
   "metadata": {
    "colab": {
     "base_uri": "https://localhost:8080/"
    },
    "executionInfo": {
     "elapsed": 22,
     "status": "ok",
     "timestamp": 1758147862424,
     "user": {
      "displayName": "Sandyy Ashraff",
      "userId": "15332849214819808934"
     },
     "user_tz": -180
    },
    "id": "iqZXxAbWidJt",
    "outputId": "2f2c5d1c-c74b-44ab-efa5-c4f906aa4492"
   },
   "outputs": [],
   "source": [
    "df.shape"
   ]
  },
  {
   "cell_type": "markdown",
   "metadata": {
    "id": "dTLpI_txcyde"
   },
   "source": [
    "---------\n",
    "<h2 align=\"left\"><font color=red>Dataset Description:</font></h2>\n",
    "    \n",
    "| __Variable__ | __Description__ |\n",
    "|     :---      |       :---      |      \n",
    "| __age__ | Age of the patient in years |\n",
    "| __sex__ | Gender of the patient (0 = male, 1 = female) |\n",
    "| __cp__ | Chest pain type: <br> 0: Typical angina <br> 1: Atypical angina <br> 2: Non-anginal pain <br> 3: Asymptomatic |\n",
    "| __trestbps__ | Resting blood pressure in mm Hg |\n",
    "| __chol__ | Serum cholesterol in mg/dl |                     \n",
    "| __fbs__ | Fasting blood sugar level, categorized as above 120 mg/dl (1 = true, 0 = false) |\n",
    "| __restecg__ | Resting electrocardiographic results: <br> 0: Normal <br> 1: Having ST-T wave abnormality <br> 2: Showing probable or definite left ventricular hypertrophy |  \n",
    "| __thalach__ | Maximum heart rate achieved during a stress test |                      \n",
    "| __exang__ | Exercise-induced angina (1 = yes, 0 = no) |\n",
    "| __oldpeak__ | ST depression induced by exercise relative to rest |\n",
    "| __slope__ | Slope of the peak exercise ST segment: <br> 0: Upsloping <br> 1: Flat <br> 2: Downsloping |                      \n",
    "| __ca__ | Number of major vessels (0-4) colored by fluoroscopy |              \n",
    "| __thal__ | Thalium stress test result: <br> 0: Normal <br> 1: Fixed defect <br> 2: Reversible defect <br> 3: Not described  |\n",
    "| __target__ | Heart disease status (0 = no disease, 1 = presence of disease) |\n",
    "\n",
    "\n",
    "-------------"
   ]
  },
  {
   "cell_type": "code",
   "execution_count": null,
   "metadata": {
    "colab": {
     "base_uri": "https://localhost:8080/"
    },
    "executionInfo": {
     "elapsed": 15,
     "status": "ok",
     "timestamp": 1758147862424,
     "user": {
      "displayName": "Sandyy Ashraff",
      "userId": "15332849214819808934"
     },
     "user_tz": -180
    },
    "id": "1Tevvc4siWwg",
    "outputId": "e0d7ada6-8ba6-4be4-a10d-1d29dd905a31"
   },
   "outputs": [],
   "source": [
    "#infromation of dataset\n",
    "df.info()"
   ]
  },
  {
   "cell_type": "markdown",
   "metadata": {
    "id": "ZSdsiVI-ZWVM"
   },
   "source": [
    "------\n",
    "<h2 align=\"left\"><font color=red>Inferences:</font></h2>\n",
    "\n",
    "* __Number of Entries__: The dataset consists of __303 entries__, ranging from index 0 to 302.\n",
    "    \n",
    "    \n",
    "* __Columns__: There are __14 columns__ in the dataset corresponding to various attributes of the patients and results of tests.\n",
    "    \n",
    "    \n",
    "* __Data Types__:\n",
    "    - Most of the columns (13 out of 14) are of the __int64__ data type.\n",
    "    - Only the oldpeak column is of the float64 data type.\n",
    "    \n",
    "    \n",
    "* __Missing Values__: There don't appear to be any missing values in the dataset as each column has 303 non-null entries.\n",
    "-----"
   ]
  },
  {
   "cell_type": "markdown",
   "metadata": {
    "id": "gWJc_bixaR2O"
   },
   "source": [
    "-----\n",
    "<h2 align=\"left\"><font color=red>Note:</font></h2>\n",
    "\n",
    "Based on the data types and the feature explanations we had earlier, we can see that __9 columns__ (`sex`, `cp`, `fbs`, `restecg`, `exang`, `slope`, `ca`, `thal`, and `target`) are indeed __numerical__ in terms of data type, but __categorical__ in terms of their semantics. These features should be converted to string (__object__) data type for proper analysis and interpretation:\n",
    "\n",
    "-----"
   ]
  },
  {
   "cell_type": "code",
   "execution_count": null,
   "metadata": {
    "colab": {
     "base_uri": "https://localhost:8080/",
     "height": 523
    },
    "executionInfo": {
     "elapsed": 5,
     "status": "ok",
     "timestamp": 1758147862428,
     "user": {
      "displayName": "Sandyy Ashraff",
      "userId": "15332849214819808934"
     },
     "user_tz": -180
    },
    "id": "0lYRaKoAasLt",
    "outputId": "21a29597-566b-4e93-fdbd-485a2d1412b2"
   },
   "outputs": [],
   "source": [
    "# Define the continuous features\n",
    "continuous_features = ['age', 'trestbps', 'chol', 'thalach', 'oldpeak']\n",
    "\n",
    "# Identify the features to be converted to object data type\n",
    "features_to_convert = [feature for feature in df.columns if feature not in continuous_features]\n",
    "\n",
    "# Convert the identified features to object data type\n",
    "df[features_to_convert] = df[features_to_convert].astype('object')\n",
    "\n",
    "df.dtypes"
   ]
  },
  {
   "cell_type": "code",
   "execution_count": null,
   "metadata": {
    "colab": {
     "base_uri": "https://localhost:8080/",
     "height": 206
    },
    "executionInfo": {
     "elapsed": 118,
     "status": "ok",
     "timestamp": 1758147862547,
     "user": {
      "displayName": "Sandyy Ashraff",
      "userId": "15332849214819808934"
     },
     "user_tz": -180
    },
    "id": "txrxRoczjU4t",
    "outputId": "bdbb4388-41c6-4088-c182-619e0cb9cd7a"
   },
   "outputs": [],
   "source": [
    "#Summary statistics for numerical variables\n",
    "df.describe().T\n"
   ]
  },
  {
   "cell_type": "markdown",
   "metadata": {
    "id": "HBztQhMqbE-i"
   },
   "source": [
    "------\n",
    "<h3 align=\"left\"><font color=red>Numerical Features:</font></h3>\n",
    "\n",
    "* __`age`__: The average age of the patients is approximately 54.4 years, with the youngest being 29 and the oldest 77 years.\n",
    "* __`trestbps`__: The average resting blood pressure is about 131.62 mm Hg, ranging from 94 to 200 mm Hg.\n",
    "* __`chol`__: The average cholesterol level is approximately 246.26 mg/dl, with a minimum of 126 and a maximum of 564 mg/dl.\n",
    "* __`thalach`__: The average maximum heart rate achieved is around 149.65, with a range from 71 to 202.\n",
    "* __`oldpeak`__: The average ST depression induced by exercise relative to rest is about 1.04, with values ranging from 0 to 6.2.\n",
    "\n",
    "-----"
   ]
  },
  {
   "cell_type": "markdown",
   "metadata": {
    "id": "ZMteJ-qYcNEt"
   },
   "source": [
    "-----\n",
    "Afterward, let's look at the summary statistics of the ***categorical features***:\n",
    "\n",
    "-----"
   ]
  },
  {
   "cell_type": "code",
   "execution_count": null,
   "metadata": {
    "colab": {
     "base_uri": "https://localhost:8080/",
     "height": 174
    },
    "executionInfo": {
     "elapsed": 10,
     "status": "ok",
     "timestamp": 1758147862558,
     "user": {
      "displayName": "Sandyy Ashraff",
      "userId": "15332849214819808934"
     },
     "user_tz": -180
    },
    "id": "Xnb1u0FVbEkD",
    "outputId": "d036a38c-6e89-49ef-ac26-724421704eaf"
   },
   "outputs": [],
   "source": [
    "# Get the summary statistics for categorical variables\n",
    "df.describe(include='object')"
   ]
  },
  {
   "cell_type": "markdown",
   "metadata": {
    "id": "SVhqf3DOcd7A"
   },
   "source": [
    "------\n",
    "<h3 align=\"left\"><font color=red>Categorical Features (object data type):</font></h3>\n",
    "\n",
    "* __`sex`__: There are two unique values, with males (denoted as 0) being the most frequent category, occurring 207 times out of 303 entries.\n",
    "* __`cp`__: Four unique types of chest pain are present. The most common type is \"__0__\", occurring 143 times.\n",
    "* __`fbs`__: There are two categories, and the most frequent one is \"__0__\" (indicating fasting blood sugar less than 120 mg/dl), which appears 258 times.\n",
    "* __`restecg`__: Three unique results are present. The most common result is \"__1__\", appearing 152 times.\n",
    "* __`exang`__: There are two unique values. The most frequent value is \"__0__\" (indicating no exercise-induced angina), which is observed 204 times.\n",
    "* __`slope`__: Three unique slopes are present. The most frequent slope type is \"__2__\", which occurs 142 times.\n",
    "* __`ca`__: There are five unique values for the number of major vessels colored by fluoroscopy, with \"__0__\" being the most frequent, occurring 175 times.\n",
    "* __`thal`__: Four unique results are available. The most common type is \"__2__\" (indicating a reversible defect), observed 166 times.\n",
    "* __`target`__: Two unique values indicate the presence or absence of heart disease. The value \"__1__\" (indicating the presence of heart disease) is the most frequent, observed in 165 entries.\n",
    "\n",
    "-----"
   ]
  },
  {
   "cell_type": "code",
   "execution_count": null,
   "metadata": {
    "colab": {
     "base_uri": "https://localhost:8080/"
    },
    "executionInfo": {
     "elapsed": 107,
     "status": "ok",
     "timestamp": 1758147862664,
     "user": {
      "displayName": "Sandyy Ashraff",
      "userId": "15332849214819808934"
     },
     "user_tz": -180
    },
    "id": "h7un4NvKj4G6",
    "outputId": "cf9495bd-faac-46e0-ed3f-863637773371"
   },
   "outputs": [],
   "source": [
    "#lets check for duplicates\n",
    "df.duplicated().sum()"
   ]
  },
  {
   "cell_type": "markdown",
   "metadata": {
    "id": "p0JIMi8enEJF"
   },
   "source": [
    "----\n",
    "*As you can see we also dont have any **duplicates**...So, we'll keep moving*\n",
    "\n",
    "---"
   ]
  },
  {
   "cell_type": "markdown",
   "metadata": {
    "id": "DKuxDVKSfSYd"
   },
   "source": [
    "---\n",
    "<p align=\"left\"><font color=red>Now,</font></>I am going to check for outliers using the __IQR method__ for the continuous features:\n",
    "\n",
    "----"
   ]
  },
  {
   "cell_type": "code",
   "execution_count": null,
   "metadata": {
    "colab": {
     "base_uri": "https://localhost:8080/"
    },
    "executionInfo": {
     "elapsed": 9,
     "status": "ok",
     "timestamp": 1758147862665,
     "user": {
      "displayName": "Sandyy Ashraff",
      "userId": "15332849214819808934"
     },
     "user_tz": -180
    },
    "id": "M2CLlwCNftOW",
    "outputId": "f7aa743d-6c60-46ac-8a57-532c268d0533"
   },
   "outputs": [],
   "source": [
    "continuous_features"
   ]
  },
  {
   "cell_type": "code",
   "execution_count": null,
   "metadata": {
    "colab": {
     "base_uri": "https://localhost:8080/",
     "height": 240
    },
    "executionInfo": {
     "elapsed": 16,
     "status": "ok",
     "timestamp": 1758147862681,
     "user": {
      "displayName": "Sandyy Ashraff",
      "userId": "15332849214819808934"
     },
     "user_tz": -180
    },
    "id": "zwcKkm5Gfwlp",
    "outputId": "edd45d41-faa3-4544-9bde-d2c34f44a0a6"
   },
   "outputs": [],
   "source": [
    "Q1 = df[continuous_features].quantile(0.25)\n",
    "Q3 = df[continuous_features].quantile(0.75)\n",
    "IQR = Q3 - Q1\n",
    "outliers_count_specified = ((df[continuous_features] < (Q1 - 1.5 * IQR)) | (df[continuous_features] > (Q3 + 1.5 * IQR))).sum()\n",
    "\n",
    "outliers_count_specified"
   ]
  },
  {
   "cell_type": "markdown",
   "metadata": {
    "id": "dMyq-aI5f7Cv"
   },
   "source": [
    "-----    \n",
    "Upon identifying outliers for the specified continuous features, we found the following:\n",
    "\n",
    "* __`trestbps`__: 9 outliers\n",
    "* __`chol`__: 5 outliers\n",
    "* __`thalach`__: 1 outlier\n",
    "* __`oldpeak`__: 5 outliers\n",
    "* __`age`__: No outliers\n",
    "\n",
    "-----"
   ]
  },
  {
   "cell_type": "markdown",
   "metadata": {
    "id": "s_4nwRvzecww"
   },
   "source": [
    "------\n",
    "<h3 align=\"left\"><font color=red>One-hot Encoding Decision:</font></h3>\n",
    "    \n",
    "Based on the feature descriptions, let's decide on one-hot encoding:\n",
    "\n",
    "1. __Nominal Variables__: These are variables with no inherent order. They should be one-hot encoded because using them as numbers might introduce an unintended order to the model.\n",
    "\n",
    "2. __Ordinal Variables__: These variables have an inherent order. They don't necessarily need to be one-hot encoded since their order can provide meaningful information to the model.\n",
    "\n",
    "Given the above explanation:\n",
    "\n",
    "- __`sex`__: This is a binary variable with two categories (male and female), so it doesn't need one-hot encoding.\n",
    "\n",
    "    \n",
    "- __`cp`__: Chest pain type can be considered as nominal because there's no clear ordinal relationship among the different types of chest pain (like Typical angina, Atypical angina, etc.). It should be one-hot encoded.\n",
    "  \n",
    "    \n",
    "- __`fbs`__: This is a binary variable (true or false), so it doesn't need one-hot encoding.\n",
    "\n",
    "    \n",
    "- __`restecg`__: This variable represents the resting electrocardiographic results. The results, such as \"Normal\", \"Having ST-T wave abnormality\", and \"Showing probable or definite left ventricular hypertrophy\", don't seem to have an ordinal relationship. Therefore, it should be one-hot encoded.\n",
    "\n",
    "    \n",
    "- __`exang`__: This is a binary variable (yes or no), so it doesn't need one-hot encoding.\n",
    "\n",
    "    \n",
    "- __`slope`__: This represents the slope of the peak exercise ST segment. Given the descriptions (Upsloping, Flat, Downsloping), it seems to have an ordinal nature, suggesting a particular order. Therefore, it doesn't need to be one-hot encoded.\n",
    "\n",
    "    \n",
    "- __`ca`__: This represents the number of major vessels colored by fluoroscopy. As it indicates a count, it has an inherent ordinal relationship. Therefore, it doesn't need to be one-hot encoded.\n",
    "\n",
    "    \n",
    "- __`thal`__: This variable represents the result of a thalium stress test. The different states, like \"Normal\", \"Fixed defect\", and \"Reversible defect\", suggest a nominal nature. Thus, it should be one-hot encoded.\n",
    "\n",
    "<h4 align=\"left\">Summary:</h4>\n",
    "\n",
    "- __Need One-Hot Encoding__: __`cp`__, __`restecg`__, __`thal`__\n",
    "- __Don't Need One-Hot Encoding__: __`sex`__, __`fbs`__, __`exang`__, __`slope`__, __`ca`__\n",
    "\n",
    "\n",
    "------"
   ]
  },
  {
   "cell_type": "code",
   "execution_count": null,
   "metadata": {
    "colab": {
     "base_uri": "https://localhost:8080/",
     "height": 648
    },
    "executionInfo": {
     "elapsed": 19,
     "status": "ok",
     "timestamp": 1758147862701,
     "user": {
      "displayName": "Sandyy Ashraff",
      "userId": "15332849214819808934"
     },
     "user_tz": -180
    },
    "id": "lV_9CF8zej3p",
    "outputId": "64efcf2d-107d-4237-f439-a741a6c866a3"
   },
   "outputs": [],
   "source": [
    "# Implementing one-hot encoding on the specified categorical features\n",
    "df_encoded = pd.get_dummies(df, columns=['cp', 'restecg', 'thal'], drop_first=True)\n",
    "\n",
    "# Convert the rest of the categorical variables that don't need one-hot encoding to integer data type\n",
    "features_to_convert = ['sex', 'fbs', 'exang', 'slope', 'ca', 'target']\n",
    "for feature in features_to_convert:\n",
    "    df_encoded[feature] = df_encoded[feature].astype(int)\n",
    "\n",
    "df_encoded.dtypes"
   ]
  },
  {
   "cell_type": "code",
   "execution_count": null,
   "metadata": {
    "colab": {
     "base_uri": "https://localhost:8080/",
     "height": 226
    },
    "executionInfo": {
     "elapsed": 21,
     "status": "ok",
     "timestamp": 1758147862720,
     "user": {
      "displayName": "Sandyy Ashraff",
      "userId": "15332849214819808934"
     },
     "user_tz": -180
    },
    "id": "uGW3QJTMeqZn",
    "outputId": "12ec28cb-895a-47eb-b24d-f69ab6c43519"
   },
   "outputs": [],
   "source": [
    "# Displaying the resulting DataFrame after one-hot encoding\n",
    "df_encoded.head()"
   ]
  },
  {
   "cell_type": "code",
   "execution_count": null,
   "metadata": {
    "executionInfo": {
     "elapsed": 34,
     "status": "ok",
     "timestamp": 1758147862749,
     "user": {
      "displayName": "Sandyy Ashraff",
      "userId": "15332849214819808934"
     },
     "user_tz": -180
    },
    "id": "-FWZnhbNv2F_"
   },
   "outputs": [],
   "source": [
    "df_encoded.to_csv(\"./data/clean_data.csv\", index=False)"
   ]
  }
 ],
 "metadata": {
  "colab": {
   "authorship_tag": "ABX9TyMe9nY4S2aBPfzs4F1rUcgy",
   "provenance": []
  },
  "kernelspec": {
   "display_name": "Python 3 (ipykernel)",
   "language": "python",
   "name": "python3"
  },
  "language_info": {
   "codemirror_mode": {
    "name": "ipython",
    "version": 3
   },
   "file_extension": ".py",
   "mimetype": "text/x-python",
   "name": "python",
   "nbconvert_exporter": "python",
   "pygments_lexer": "ipython3",
   "version": "3.11.5"
  }
 },
 "nbformat": 4,
 "nbformat_minor": 1
}
